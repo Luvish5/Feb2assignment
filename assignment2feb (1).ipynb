{
 "cells": [
  {
   "cell_type": "code",
   "execution_count": 6,
   "id": "2acd50cc-67fe-46cb-ae2e-5e47f5ee4bae",
   "metadata": {},
   "outputs": [
    {
     "name": "stdout",
     "output_type": "stream",
     "text": [
      "2\n",
      "5\n",
      "4\n",
      "6\n",
      "1\n",
      "3\n",
      "9\n",
      "4\n",
      "4\n",
      "9\n",
      "7\n",
      "2 is less than 7\n",
      "5 is less than 7\n",
      "4 is less than 7\n",
      "6 is less than 7\n",
      "1 is less than 7\n",
      "3 is less than 7\n"
     ]
    }
   ],
   "source": [
    "Ans1= \"for loop is used when we know the no. of times the loop should run and while loop is used when we need to run the loop till the conditions are saisfied. Examples are below- \"\n",
    "l=[2,5,4,6,1,3,9,4,4,9,7]\n",
    "for i in l:\n",
    "    print(i)\n",
    "    \n",
    "j=0   \n",
    "while(l[j]<7):\n",
    "    print(l[j], \"is less than 7\")    \n",
    "    j=j+1"
   ]
  },
  {
   "cell_type": "code",
   "execution_count": 7,
   "id": "b8389986-d38f-4d87-abba-f3f06c06fb3a",
   "metadata": {},
   "outputs": [
    {
     "name": "stdout",
     "output_type": "stream",
     "text": [
      "55\n",
      "3628800\n"
     ]
    }
   ],
   "source": [
    "Ans2parta=\"using for loop\" \n",
    "sum=0\n",
    "product=1\n",
    "for i in range(1,11):\n",
    "    sum+=i\n",
    "    product*=i\n",
    "print(sum)\n",
    "print(product)"
   ]
  },
  {
   "cell_type": "code",
   "execution_count": null,
   "id": "9ff0d3e6-cf41-4e98-8177-bace1989bbd0",
   "metadata": {},
   "outputs": [],
   "source": [
    "Ans2partb=\"using while loop\" \n",
    "\n",
    "j=1\n",
    "sum=0\n",
    "product=1\n",
    "while(j<=10):\n",
    "    sum+=j\n",
    "    product*=j\n",
    "    j+=1\n",
    "print(sum)\n",
    "print(product)"
   ]
  },
  {
   "cell_type": "code",
   "execution_count": 7,
   "id": "a43cc2be-8c13-4a65-a694-6e8767abdd6f",
   "metadata": {},
   "outputs": [
    {
     "name": "stdin",
     "output_type": "stream",
     "text": [
      "Enter the units consumed 310\n"
     ]
    },
    {
     "name": "stdout",
     "output_type": "stream",
     "text": [
      "your bill is  2250.0\n"
     ]
    }
   ],
   "source": [
    "Ans3=\"calculating bill\"\n",
    "\n",
    "units=int(input(\"Enter the units consumed\"))\n",
    "bill=0\n",
    "\n",
    "for i in range(1,units+1):\n",
    "    if (i <=100):\n",
    "        bill=bill + 4.5\n",
    "        \n",
    "    elif(i>100 and i<=200):\n",
    "        bill+= 6\n",
    "        \n",
    "    elif(i>200 and i<=300):\n",
    "        bill+= 10\n",
    "        \n",
    "    elif(i>300):\n",
    "        bill+= 20\n",
    "        \n",
    "print(\"your bill is \" , bill)\n",
    "        "
   ]
  },
  {
   "cell_type": "code",
   "execution_count": 8,
   "id": "14d69e29-c4a3-4c24-89de-8a2ba05a6375",
   "metadata": {},
   "outputs": [
    {
     "name": "stdout",
     "output_type": "stream",
     "text": [
      "[2, 4, 5, 6, 8, 10, 12, 14, 15, 16, 18, 20, 22, 24, 25, 26, 28, 30, 32, 34, 35, 36, 38, 40, 42, 44, 45, 46, 48, 50, 52, 54, 55, 56, 58, 60, 62, 64, 65, 66, 68, 70, 72, 74, 75, 76, 78, 80, 82, 84, 85, 86, 88, 90, 92, 94, 95, 96, 98, 100]\n"
     ]
    }
   ],
   "source": [
    "l=[]\n",
    "divby4or5=[]\n",
    "for i in range(1,101):\n",
    "    l.append(i)\n",
    "\n",
    "for j in l:\n",
    "    cube=j**3\n",
    "    if (cube%4==0 or cube%5==0):\n",
    "        divby4or5.append(j)\n",
    "        \n",
    "print(divby4or5)"
   ]
  },
  {
   "cell_type": "code",
   "execution_count": 10,
   "id": "90d6da1e-2149-4d5b-82a9-482b0745a2a9",
   "metadata": {},
   "outputs": [
    {
     "name": "stdout",
     "output_type": "stream",
     "text": [
      "[2, 4, 5, 6, 8, 10, 12, 14, 15, 16, 18, 20, 22, 24, 25, 26, 28, 30, 32, 34, 35, 36, 38, 40, 42, 44, 45, 46, 48, 50, 52, 54, 55, 56, 58, 60, 62, 64, 65, 66, 68, 70, 72, 74, 75, 76, 78, 80, 82, 84, 85, 86, 88, 90, 92, 94, 95, 96, 98, 100]\n"
     ]
    }
   ],
   "source": [
    "l=[]\n",
    "divby4or5=[]\n",
    "i=1\n",
    "while(i<101):\n",
    "    l.append(i)\n",
    "    i+=1\n",
    "    \n",
    "j=1\n",
    "while(j<=len(l)):\n",
    "    cube=j**3\n",
    "    if (cube%4==0 or cube%5==0):\n",
    "        divby4or5.append(j)\n",
    "    j+=1\n",
    "        \n",
    "print(divby4or5)"
   ]
  },
  {
   "cell_type": "code",
   "execution_count": 14,
   "id": "5131372a-00a5-4bda-95dd-b9a97361b40e",
   "metadata": {},
   "outputs": [
    {
     "name": "stdout",
     "output_type": "stream",
     "text": [
      "12\n"
     ]
    }
   ],
   "source": [
    "string = \"I want to become a data scientist\"\n",
    "vowels=[]\n",
    "l=list(string)\n",
    "for i in l:\n",
    "    if(i=='a' or i=='e' or i=='i' or i=='o' or i=='u' or i=='I'):\n",
    "        vowels.append(i)\n",
    "        \n",
    "print(len(vowels))"
   ]
  },
  {
   "cell_type": "code",
   "execution_count": null,
   "id": "86ca0b3a-3f61-4edd-a067-67ac877bd736",
   "metadata": {},
   "outputs": [],
   "source": []
  }
 ],
 "metadata": {
  "kernelspec": {
   "display_name": "Python 3 (ipykernel)",
   "language": "python",
   "name": "python3"
  },
  "language_info": {
   "codemirror_mode": {
    "name": "ipython",
    "version": 3
   },
   "file_extension": ".py",
   "mimetype": "text/x-python",
   "name": "python",
   "nbconvert_exporter": "python",
   "pygments_lexer": "ipython3",
   "version": "3.10.8"
  }
 },
 "nbformat": 4,
 "nbformat_minor": 5
}
